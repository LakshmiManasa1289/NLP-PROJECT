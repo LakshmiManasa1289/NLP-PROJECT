{
 "cells": [
  {
   "cell_type": "code",
   "execution_count": 1,
   "id": "4c51ac53",
   "metadata": {},
   "outputs": [
    {
     "name": "stdout",
     "output_type": "stream",
     "text": [
      "Requirement already satisfied: pdf2docx in c:\\users\\chait\\anaconda\\lib\\site-packages (0.5.8)\n",
      "Requirement already satisfied: PyMuPDF>=1.19.0 in c:\\users\\chait\\anaconda\\lib\\site-packages (from pdf2docx) (1.24.0)\n",
      "Requirement already satisfied: python-docx>=0.8.10 in c:\\users\\chait\\appdata\\roaming\\python\\python311\\site-packages (from pdf2docx) (1.1.0)\n",
      "Requirement already satisfied: fonttools>=4.24.0 in c:\\users\\chait\\anaconda\\lib\\site-packages (from pdf2docx) (4.25.0)\n",
      "Requirement already satisfied: numpy>=1.17.2 in c:\\users\\chait\\anaconda\\lib\\site-packages (from pdf2docx) (1.24.3)\n",
      "Requirement already satisfied: opencv-python-headless>=4.5 in c:\\users\\chait\\anaconda\\lib\\site-packages (from pdf2docx) (4.9.0.80)\n",
      "Requirement already satisfied: fire>=0.3.0 in c:\\users\\chait\\anaconda\\lib\\site-packages (from pdf2docx) (0.6.0)\n",
      "Requirement already satisfied: six in c:\\users\\chait\\anaconda\\lib\\site-packages (from fire>=0.3.0->pdf2docx) (1.12.0)\n",
      "Requirement already satisfied: termcolor in c:\\users\\chait\\appdata\\roaming\\python\\python311\\site-packages (from fire>=0.3.0->pdf2docx) (2.4.0)\n",
      "Requirement already satisfied: PyMuPDFb==1.24.0 in c:\\users\\chait\\anaconda\\lib\\site-packages (from PyMuPDF>=1.19.0->pdf2docx) (1.24.0)\n",
      "Requirement already satisfied: lxml>=3.1.0 in c:\\users\\chait\\anaconda\\lib\\site-packages (from python-docx>=0.8.10->pdf2docx) (4.9.3)\n",
      "Requirement already satisfied: typing-extensions in c:\\users\\chait\\anaconda\\lib\\site-packages (from python-docx>=0.8.10->pdf2docx) (4.7.1)\n"
     ]
    },
    {
     "name": "stderr",
     "output_type": "stream",
     "text": [
      "DEPRECATION: textract 1.6.5 has a non-standard dependency specifier extract-msg<=0.29.*. pip 23.3 will enforce this behaviour change. A possible replacement is to upgrade to a newer version of textract or contact the author to suggest that they release a version with a conforming dependency specifiers. Discussion can be found at https://github.com/pypa/pip/issues/12063\n"
     ]
    }
   ],
   "source": [
    "!pip install pdf2docx"
   ]
  },
  {
   "cell_type": "code",
   "execution_count": 2,
   "id": "2d030ace",
   "metadata": {},
   "outputs": [],
   "source": [
    "from pdf2docx import Converter\n",
    "import os"
   ]
  },
  {
   "cell_type": "code",
   "execution_count": 3,
   "id": "8f7011dd",
   "metadata": {},
   "outputs": [],
   "source": [
    "path_input = r'Resumes\\React JS Developer'\n",
    "path_output = r'Resumes'"
   ]
  },
  {
   "cell_type": "code",
   "execution_count": 4,
   "id": "9df88410",
   "metadata": {},
   "outputs": [
    {
     "name": "stderr",
     "output_type": "stream",
     "text": [
      "[INFO] Start to convert Resumes\\React JS Developer\\Reactjs Developer_Prabakaran_Musquare Technologies.pdf\n",
      "[INFO] \u001b[1;36m[1/4] Opening document...\u001b[0m\n",
      "[INFO] \u001b[1;36m[2/4] Analyzing document...\u001b[0m\n"
     ]
    },
    {
     "name": "stdout",
     "output_type": "stream",
     "text": [
      "Reactjs Developer_Prabakaran_Musquare Technologies\n"
     ]
    },
    {
     "name": "stderr",
     "output_type": "stream",
     "text": [
      "[INFO] \u001b[1;36m[3/4] Parsing pages...\u001b[0m\n",
      "[INFO] (1/2) Page 1\n",
      "[INFO] (2/2) Page 2\n",
      "[INFO] \u001b[1;36m[4/4] Creating pages...\u001b[0m\n",
      "[INFO] (1/2) Page 1\n",
      "[INFO] (2/2) Page 2\n",
      "[INFO] Terminated in 0.84s.\n"
     ]
    }
   ],
   "source": [
    "for file in os.listdir(path_input):\n",
    "    if file.endswith('.pdf'):\n",
    "        final = os.path.join(path_input, file)\n",
    "        cv = Converter(final)\n",
    "        basename = os.path.splitext(file)[0]\n",
    "        print(basename)\n",
    "        cv.convert(path_output + '/' + basename+'.docx', start=0, end=None)\n",
    "        cv.close()\n",
    "# For Multiple Folder\n",
    "path_input = 'Resumes\\React JS Developer'\n",
    "path_output = 'Resumes'\n",
    "for folder in os.listdir(path_input):\n",
    "    folder_path = os.path.join(path_input, folder)\n",
    "for file in os.listdir('C:\\\\Users\\\\chait\\\\NLP PROJECT'):\n",
    "        if file.endswith('.pdf'):\n",
    "             final_path = os.path.join(folder_path, file)\n",
    "             cv = Converter(final_path)\n",
    "             basename = os.path.splitext(file)[0]\n",
    "             cv.convert(path_output + '/' + folder + '/' + basename+'.docx', start=0, end=None)\n",
    "             cv.close()\n"
   ]
  },
  {
   "cell_type": "code",
   "execution_count": null,
   "id": "ca49fdbc",
   "metadata": {},
   "outputs": [],
   "source": []
  }
 ],
 "metadata": {
  "kernelspec": {
   "display_name": "Python 3 (ipykernel)",
   "language": "python",
   "name": "python3"
  },
  "language_info": {
   "codemirror_mode": {
    "name": "ipython",
    "version": 3
   },
   "file_extension": ".py",
   "mimetype": "text/x-python",
   "name": "python",
   "nbconvert_exporter": "python",
   "pygments_lexer": "ipython3",
   "version": "3.11.5"
  }
 },
 "nbformat": 4,
 "nbformat_minor": 5
}
