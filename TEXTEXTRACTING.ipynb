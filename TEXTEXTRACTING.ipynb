{
 "cells": [
  {
   "cell_type": "code",
   "execution_count": 1,
   "id": "e7ee31f1",
   "metadata": {},
   "outputs": [],
   "source": [
    "import pandas as pd\n",
    "import seaborn as sns\n",
    "from matplotlib import pyplot as plt\n",
    "import os\n",
    "import warnings\n",
    "warnings.filterwarnings('ignore')\n",
    "import textract\n",
    "import re\n",
    "import nltk\n",
    "import string\n",
    "from nltk.corpus import stopwords\n",
    "from nltk.tokenize import RegexpTokenizer\n",
    "from wordcloud import WordCloud, STOPWORDS\n",
    "from nltk.stem import PorterStemmer, WordNetLemmatizer"
   ]
  },
  {
   "cell_type": "code",
   "execution_count": 2,
   "id": "8f7c8e9b",
   "metadata": {},
   "outputs": [
    {
     "data": {
      "text/plain": [
       "['.ipynb_checkpoints',\n",
       " 'Peoplesoft resumes',\n",
       " 'React JS Developer',\n",
       " 'SQL Developer',\n",
       " 'workday']"
      ]
     },
     "execution_count": 2,
     "metadata": {},
     "output_type": "execute_result"
    }
   ],
   "source": [
    "os.listdir('Resumes/')"
   ]
  },
  {
   "cell_type": "code",
   "execution_count": 3,
   "id": "00f6b69a",
   "metadata": {},
   "outputs": [],
   "source": [
    "file_path1 = []\n",
    "category1  = []\n",
    "directory1 = 'Resumes/PeopleSoft resumes/'\n",
    "for i in os.listdir(directory1):\n",
    "    if i.endswith('.docx'):\n",
    "        os.path.join(directory1, i)\n",
    "        file_path1.append((textract.process(os.path.join(directory1, i))).decode('utf-8'))\n",
    "        category1.append('PeopleSoft resumes')"
   ]
  },
  {
   "cell_type": "code",
   "execution_count": 4,
   "id": "da78bdb9",
   "metadata": {},
   "outputs": [
    {
     "data": {
      "text/html": [
       "<div>\n",
       "<style scoped>\n",
       "    .dataframe tbody tr th:only-of-type {\n",
       "        vertical-align: middle;\n",
       "    }\n",
       "\n",
       "    .dataframe tbody tr th {\n",
       "        vertical-align: top;\n",
       "    }\n",
       "\n",
       "    .dataframe thead th {\n",
       "        text-align: right;\n",
       "    }\n",
       "</style>\n",
       "<table border=\"1\" class=\"dataframe\">\n",
       "  <thead>\n",
       "    <tr style=\"text-align: right;\">\n",
       "      <th></th>\n",
       "      <th>Raw_Details</th>\n",
       "      <th>Category1</th>\n",
       "    </tr>\n",
       "  </thead>\n",
       "  <tbody>\n",
       "    <tr>\n",
       "      <th>0</th>\n",
       "      <td>Anubhav Kumar Singh\\t\\t\\n\\n\\n\\nCore Competenci...</td>\n",
       "      <td>PeopleSoft resumes</td>\n",
       "    </tr>\n",
       "    <tr>\n",
       "      <th>1</th>\n",
       "      <td>Classification: Internal\\n\\nClassification: In...</td>\n",
       "      <td>PeopleSoft resumes</td>\n",
       "    </tr>\n",
       "    <tr>\n",
       "      <th>2</th>\n",
       "      <td>SIRAZUDDIN M\\n\\n\\tBangalore, INDIA\\t\\n\\n\\n\\n\\n...</td>\n",
       "      <td>PeopleSoft resumes</td>\n",
       "    </tr>\n",
       "    <tr>\n",
       "      <th>3</th>\n",
       "      <td>PeopleSoft Admin\\n\\nVARKALA VIKAS\\n\\n\\n\\nCaree...</td>\n",
       "      <td>PeopleSoft resumes</td>\n",
       "    </tr>\n",
       "    <tr>\n",
       "      <th>4</th>\n",
       "      <td>PeopleSoft Administration\\n\\n \\n\\nVivekanand S...</td>\n",
       "      <td>PeopleSoft resumes</td>\n",
       "    </tr>\n",
       "    <tr>\n",
       "      <th>5</th>\n",
       "      <td>Hari Narayana \\t\\t              \\n\\n\\t\\n\\n\\n\\n...</td>\n",
       "      <td>PeopleSoft resumes</td>\n",
       "    </tr>\n",
       "    <tr>\n",
       "      <th>6</th>\n",
       "      <td>Murali\\t\\t       \\n\\n\\t\\n\\n\\n\\n\\n\\n\\n\\n\\n\\n\\n\\...</td>\n",
       "      <td>PeopleSoft resumes</td>\n",
       "    </tr>\n",
       "    <tr>\n",
       "      <th>7</th>\n",
       "      <td>Priyabrata Hota\\n\\n\\n\\n\\n\\nCAREER OBJECTIVE\\t\\...</td>\n",
       "      <td>PeopleSoft resumes</td>\n",
       "    </tr>\n",
       "    <tr>\n",
       "      <th>8</th>\n",
       "      <td>Tanna Sujatha \\n\\n\\n\\n\\n\\n\\n\\nOBJECTIVE\\n\\nSee...</td>\n",
       "      <td>PeopleSoft resumes</td>\n",
       "    </tr>\n",
       "    <tr>\n",
       "      <th>9</th>\n",
       "      <td>C O N T A C T :\\n\\n\\n\\nAddress: Manyata Tech P...</td>\n",
       "      <td>PeopleSoft resumes</td>\n",
       "    </tr>\n",
       "  </tbody>\n",
       "</table>\n",
       "</div>"
      ],
      "text/plain": [
       "                                         Raw_Details           Category1\n",
       "0  Anubhav Kumar Singh\\t\\t\\n\\n\\n\\nCore Competenci...  PeopleSoft resumes\n",
       "1  Classification: Internal\\n\\nClassification: In...  PeopleSoft resumes\n",
       "2  SIRAZUDDIN M\\n\\n\\tBangalore, INDIA\\t\\n\\n\\n\\n\\n...  PeopleSoft resumes\n",
       "3  PeopleSoft Admin\\n\\nVARKALA VIKAS\\n\\n\\n\\nCaree...  PeopleSoft resumes\n",
       "4  PeopleSoft Administration\\n\\n \\n\\nVivekanand S...  PeopleSoft resumes\n",
       "5  Hari Narayana \\t\\t              \\n\\n\\t\\n\\n\\n\\n...  PeopleSoft resumes\n",
       "6  Murali\\t\\t       \\n\\n\\t\\n\\n\\n\\n\\n\\n\\n\\n\\n\\n\\n\\...  PeopleSoft resumes\n",
       "7  Priyabrata Hota\\n\\n\\n\\n\\n\\nCAREER OBJECTIVE\\t\\...  PeopleSoft resumes\n",
       "8  Tanna Sujatha \\n\\n\\n\\n\\n\\n\\n\\nOBJECTIVE\\n\\nSee...  PeopleSoft resumes\n",
       "9  C O N T A C T :\\n\\n\\n\\nAddress: Manyata Tech P...  PeopleSoft resumes"
      ]
     },
     "execution_count": 4,
     "metadata": {},
     "output_type": "execute_result"
    }
   ],
   "source": [
    "data1 = pd.DataFrame(data = file_path1 , columns = ['Raw_Details'])\n",
    "data1['Category1'] = category1\n",
    "data1"
   ]
  },
  {
   "cell_type": "code",
   "execution_count": 5,
   "id": "0b427e18",
   "metadata": {},
   "outputs": [],
   "source": [
    "file_path2 = []\n",
    "category2  = []\n",
    "directory2 = 'Resumes/React JS Developer/'\n",
    "for i in os.listdir(directory2):\n",
    "    if i.endswith('.docx'):\n",
    "        os.path.join(directory2, i)\n",
    "        file_path2.append((textract.process(os.path.join(directory2, i))).decode('utf-8'))\n",
    "        category2.append('React JS Developer')"
   ]
  },
  {
   "cell_type": "code",
   "execution_count": 6,
   "id": "25678c2e",
   "metadata": {},
   "outputs": [
    {
     "data": {
      "text/html": [
       "<div>\n",
       "<style scoped>\n",
       "    .dataframe tbody tr th:only-of-type {\n",
       "        vertical-align: middle;\n",
       "    }\n",
       "\n",
       "    .dataframe tbody tr th {\n",
       "        vertical-align: top;\n",
       "    }\n",
       "\n",
       "    .dataframe thead th {\n",
       "        text-align: right;\n",
       "    }\n",
       "</style>\n",
       "<table border=\"1\" class=\"dataframe\">\n",
       "  <thead>\n",
       "    <tr style=\"text-align: right;\">\n",
       "      <th></th>\n",
       "      <th>Raw_Details</th>\n",
       "      <th>Category2</th>\n",
       "    </tr>\n",
       "  </thead>\n",
       "  <tbody>\n",
       "    <tr>\n",
       "      <th>0</th>\n",
       "      <td>Name: Ravali P \\n\\n\\n\\n                       ...</td>\n",
       "      <td>React JS Developer</td>\n",
       "    </tr>\n",
       "    <tr>\n",
       "      <th>1</th>\n",
       "      <td>SUSOVAN  BAG   \\n\\nSeeking  a  challenging  po...</td>\n",
       "      <td>React JS Developer</td>\n",
       "    </tr>\n",
       "    <tr>\n",
       "      <th>2</th>\n",
       "      <td>Kanumuru Deepak Reddy\\n\\n\\n\\n\\t\\n\\n\\n\\nCAREER ...</td>\n",
       "      <td>React JS Developer</td>\n",
       "    </tr>\n",
       "    <tr>\n",
       "      <th>3</th>\n",
       "      <td>HARIPRIYA BATTINA \\n\\nExperience as UI Develop...</td>\n",
       "      <td>React JS Developer</td>\n",
       "    </tr>\n",
       "    <tr>\n",
       "      <th>4</th>\n",
       "      <td>KAMALAKAR REDDY. A \\n\\nLinked In: https://www....</td>\n",
       "      <td>React JS Developer</td>\n",
       "    </tr>\n",
       "    <tr>\n",
       "      <th>5</th>\n",
       "      <td>Naveen Sadhu\\n\\n\\n\\n\\n\\nTitle: software develo...</td>\n",
       "      <td>React JS Developer</td>\n",
       "    </tr>\n",
       "    <tr>\n",
       "      <th>6</th>\n",
       "      <td>PRAGNYA PATTNAIK\\n\\n \\n\\n \\n\\n \\n\\n Expertise:...</td>\n",
       "      <td>React JS Developer</td>\n",
       "    </tr>\n",
       "    <tr>\n",
       "      <th>7</th>\n",
       "      <td>SARALA MADASU\\n\\nSARALA MADASU\\n\\n 204,Sri ge...</td>\n",
       "      <td>React JS Developer</td>\n",
       "    </tr>\n",
       "    <tr>\n",
       "      <th>8</th>\n",
       "      <td>Thirupathamma Balla\\n\\n\\n\\nSUMMARY:\\n\\n\\n\\n2.8...</td>\n",
       "      <td>React JS Developer</td>\n",
       "    </tr>\n",
       "    <tr>\n",
       "      <th>9</th>\n",
       "      <td>Ui-Developer/ React JS Developer \\n\\nNAME: KRI...</td>\n",
       "      <td>React JS Developer</td>\n",
       "    </tr>\n",
       "    <tr>\n",
       "      <th>10</th>\n",
       "      <td>Ui-Developer/ React JS Developer \\n\\nNAME: KRI...</td>\n",
       "      <td>React JS Developer</td>\n",
       "    </tr>\n",
       "    <tr>\n",
       "      <th>11</th>\n",
       "      <td>Kotani Durga Prasad\\n\\n\\n\\n\\n\\nObjective:\\n\\n\\...</td>\n",
       "      <td>React JS Developer</td>\n",
       "    </tr>\n",
       "    <tr>\n",
       "      <th>12</th>\n",
       "      <td>Venkatalakshmi Pedireddy\\n\\nSoftware Developer...</td>\n",
       "      <td>React JS Developer</td>\n",
       "    </tr>\n",
       "    <tr>\n",
       "      <th>13</th>\n",
       "      <td>KAMBALA SAI SURENDRA   \\n\\n \\n\\n \\n\\n \\n\\n\\n\\n...</td>\n",
       "      <td>React JS Developer</td>\n",
       "    </tr>\n",
       "    <tr>\n",
       "      <th>14</th>\n",
       "      <td>MAREEDU LOKESH BABU\\n\\nPROFESSIONAL OVERVIEW\\n...</td>\n",
       "      <td>React JS Developer</td>\n",
       "    </tr>\n",
       "    <tr>\n",
       "      <th>15</th>\n",
       "      <td>MAREEDU LOKESH BABU\\n\\n\\n\\nPROFESSIONAL OVERVI...</td>\n",
       "      <td>React JS Developer</td>\n",
       "    </tr>\n",
       "    <tr>\n",
       "      <th>16</th>\n",
       "      <td>MD KHIZARUDDIN RAUF \\n\\n \\t EXPERIENCE \\n\\n   ...</td>\n",
       "      <td>React JS Developer</td>\n",
       "    </tr>\n",
       "    <tr>\n",
       "      <th>17</th>\n",
       "      <td>Pranish Sonone\\n\\n\\t\\t\\n\\n\\n\\n\\n\\n\\n\\n\\n\\nCare...</td>\n",
       "      <td>React JS Developer</td>\n",
       "    </tr>\n",
       "    <tr>\n",
       "      <th>18</th>\n",
       "      <td>Ranga Gaganam  \\n\\n\\n\\n \\n\\nProfessional\\n\\n \\...</td>\n",
       "      <td>React JS Developer</td>\n",
       "    </tr>\n",
       "    <tr>\n",
       "      <th>19</th>\n",
       "      <td>SHAIK ABDUL SHARUK   \\n\\n2 years’ Experience i...</td>\n",
       "      <td>React JS Developer</td>\n",
       "    </tr>\n",
       "  </tbody>\n",
       "</table>\n",
       "</div>"
      ],
      "text/plain": [
       "                                          Raw_Details           Category2\n",
       "0   Name: Ravali P \\n\\n\\n\\n                       ...  React JS Developer\n",
       "1   SUSOVAN  BAG   \\n\\nSeeking  a  challenging  po...  React JS Developer\n",
       "2   Kanumuru Deepak Reddy\\n\\n\\n\\n\\t\\n\\n\\n\\nCAREER ...  React JS Developer\n",
       "3   HARIPRIYA BATTINA \\n\\nExperience as UI Develop...  React JS Developer\n",
       "4   KAMALAKAR REDDY. A \\n\\nLinked In: https://www....  React JS Developer\n",
       "5   Naveen Sadhu\\n\\n\\n\\n\\n\\nTitle: software develo...  React JS Developer\n",
       "6   PRAGNYA PATTNAIK\\n\\n \\n\\n \\n\\n \\n\\n Expertise:...  React JS Developer\n",
       "7   SARALA MADASU\\n\\nSARALA MADASU\\n\\n 204,Sri ge...  React JS Developer\n",
       "8   Thirupathamma Balla\\n\\n\\n\\nSUMMARY:\\n\\n\\n\\n2.8...  React JS Developer\n",
       "9   Ui-Developer/ React JS Developer \\n\\nNAME: KRI...  React JS Developer\n",
       "10  Ui-Developer/ React JS Developer \\n\\nNAME: KRI...  React JS Developer\n",
       "11  Kotani Durga Prasad\\n\\n\\n\\n\\n\\nObjective:\\n\\n\\...  React JS Developer\n",
       "12  Venkatalakshmi Pedireddy\\n\\nSoftware Developer...  React JS Developer\n",
       "13  KAMBALA SAI SURENDRA   \\n\\n \\n\\n \\n\\n \\n\\n\\n\\n...  React JS Developer\n",
       "14  MAREEDU LOKESH BABU\\n\\nPROFESSIONAL OVERVIEW\\n...  React JS Developer\n",
       "15  MAREEDU LOKESH BABU\\n\\n\\n\\nPROFESSIONAL OVERVI...  React JS Developer\n",
       "16  MD KHIZARUDDIN RAUF \\n\\n \\t EXPERIENCE \\n\\n   ...  React JS Developer\n",
       "17  Pranish Sonone\\n\\n\\t\\t\\n\\n\\n\\n\\n\\n\\n\\n\\n\\nCare...  React JS Developer\n",
       "18  Ranga Gaganam  \\n\\n\\n\\n \\n\\nProfessional\\n\\n \\...  React JS Developer\n",
       "19  SHAIK ABDUL SHARUK   \\n\\n2 years’ Experience i...  React JS Developer"
      ]
     },
     "execution_count": 6,
     "metadata": {},
     "output_type": "execute_result"
    }
   ],
   "source": [
    "data2 = pd.DataFrame(data = file_path2 , columns = ['Raw_Details'])\n",
    "data2['Category2'] = category2\n",
    "data2"
   ]
  },
  {
   "cell_type": "code",
   "execution_count": 7,
   "id": "ca0294f0",
   "metadata": {},
   "outputs": [],
   "source": [
    "file_path3 = []\n",
    "category3  = []\n",
    "directory3 = 'Resumes/SQL Developer/'\n",
    "for i in os.listdir(directory3):\n",
    "    if i.endswith('.docx'):\n",
    "        os.path.join(directory3, i)\n",
    "        file_path3.append((textract.process(os.path.join(directory3, i))).decode('utf-8'))\n",
    "        category3.append('SQL Developer')\n"
   ]
  },
  {
   "cell_type": "code",
   "execution_count": 8,
   "id": "958006a5",
   "metadata": {},
   "outputs": [
    {
     "data": {
      "text/html": [
       "<div>\n",
       "<style scoped>\n",
       "    .dataframe tbody tr th:only-of-type {\n",
       "        vertical-align: middle;\n",
       "    }\n",
       "\n",
       "    .dataframe tbody tr th {\n",
       "        vertical-align: top;\n",
       "    }\n",
       "\n",
       "    .dataframe thead th {\n",
       "        text-align: right;\n",
       "    }\n",
       "</style>\n",
       "<table border=\"1\" class=\"dataframe\">\n",
       "  <thead>\n",
       "    <tr style=\"text-align: right;\">\n",
       "      <th></th>\n",
       "      <th>Raw_Details</th>\n",
       "      <th>Category3</th>\n",
       "    </tr>\n",
       "  </thead>\n",
       "  <tbody>\n",
       "    <tr>\n",
       "      <th>0</th>\n",
       "      <td>ANIL KUMAR MADDUKURI  \\t\\t\\n\\nSQL &amp; MSBI Devel...</td>\n",
       "      <td>SQL Developer</td>\n",
       "    </tr>\n",
       "    <tr>\n",
       "      <th>1</th>\n",
       "      <td>Aradhana Tripathi\\n\\n\\n\\nCurrent Location: Gac...</td>\n",
       "      <td>SQL Developer</td>\n",
       "    </tr>\n",
       "    <tr>\n",
       "      <th>2</th>\n",
       "      <td>BUDDHA VAMSI                                  ...</td>\n",
       "      <td>SQL Developer</td>\n",
       "    </tr>\n",
       "    <tr>\n",
       "      <th>3</th>\n",
       "      <td>KAMBALLA PRADEEP                              ...</td>\n",
       "      <td>SQL Developer</td>\n",
       "    </tr>\n",
       "    <tr>\n",
       "      <th>4</th>\n",
       "      <td>Resume\\n\\nName     :  Neeraj Mishra\\n\\n\\n\\nExp...</td>\n",
       "      <td>SQL Developer</td>\n",
       "    </tr>\n",
       "    <tr>\n",
       "      <th>5</th>\n",
       "      <td>SQL DEVELOPER\\n\\nName: -   Bandi prem sai\\n\\n\\...</td>\n",
       "      <td>SQL Developer</td>\n",
       "    </tr>\n",
       "    <tr>\n",
       "      <th>6</th>\n",
       "      <td>SQL SERVER DEVELOPER\\n\\n\\n\\n\\n\\nP. Syam Kumar ...</td>\n",
       "      <td>SQL Developer</td>\n",
       "    </tr>\n",
       "    <tr>\n",
       "      <th>7</th>\n",
       "      <td>RAJU PAVANA KUMARI\\n\\n\\n\\n\\t\\n\\n\\tProfessional...</td>\n",
       "      <td>SQL Developer</td>\n",
       "    </tr>\n",
       "    <tr>\n",
       "      <th>8</th>\n",
       "      <td>resume\\n\\n\\n\\n\\n\\n\\t\\t\\t\\t\\t\\t\\t\\t\\t\\t\\t\\tRama...</td>\n",
       "      <td>SQL Developer</td>\n",
       "    </tr>\n",
       "    <tr>\n",
       "      <th>9</th>\n",
       "      <td>Name: Ramesh\\n\\n\\t\\n\\n\\tCareer Objective: \\n\\n...</td>\n",
       "      <td>SQL Developer</td>\n",
       "    </tr>\n",
       "    <tr>\n",
       "      <th>10</th>\n",
       "      <td>SQL AND MSBI DEVELOPER\\n\\nSQL AND MSBI DEVELOP...</td>\n",
       "      <td>SQL Developer</td>\n",
       "    </tr>\n",
       "  </tbody>\n",
       "</table>\n",
       "</div>"
      ],
      "text/plain": [
       "                                          Raw_Details      Category3\n",
       "0   ANIL KUMAR MADDUKURI  \\t\\t\\n\\nSQL & MSBI Devel...  SQL Developer\n",
       "1   Aradhana Tripathi\\n\\n\\n\\nCurrent Location: Gac...  SQL Developer\n",
       "2   BUDDHA VAMSI                                  ...  SQL Developer\n",
       "3   KAMBALLA PRADEEP                              ...  SQL Developer\n",
       "4   Resume\\n\\nName     :  Neeraj Mishra\\n\\n\\n\\nExp...  SQL Developer\n",
       "5   SQL DEVELOPER\\n\\nName: -   Bandi prem sai\\n\\n\\...  SQL Developer\n",
       "6   SQL SERVER DEVELOPER\\n\\n\\n\\n\\n\\nP. Syam Kumar ...  SQL Developer\n",
       "7   RAJU PAVANA KUMARI\\n\\n\\n\\n\\t\\n\\n\\tProfessional...  SQL Developer\n",
       "8   resume\\n\\n\\n\\n\\n\\n\\t\\t\\t\\t\\t\\t\\t\\t\\t\\t\\t\\tRama...  SQL Developer\n",
       "9   Name: Ramesh\\n\\n\\t\\n\\n\\tCareer Objective: \\n\\n...  SQL Developer\n",
       "10  SQL AND MSBI DEVELOPER\\n\\nSQL AND MSBI DEVELOP...  SQL Developer"
      ]
     },
     "execution_count": 8,
     "metadata": {},
     "output_type": "execute_result"
    }
   ],
   "source": [
    "data3 = pd.DataFrame(data = file_path3 , columns = ['Raw_Details'])\n",
    "data3['Category3'] = category3\n",
    "data3"
   ]
  },
  {
   "cell_type": "code",
   "execution_count": 9,
   "id": "708fde49",
   "metadata": {},
   "outputs": [],
   "source": [
    "file_path4 = []\n",
    "category4  = []\n",
    "directory4 = 'Resumes/Workday/'\n",
    "for i in os.listdir(directory4):\n",
    "    if i.endswith('.docx'):\n",
    "        os.path.join(directory4, i)\n",
    "        file_path4.append((textract.process(os.path.join(directory4, i))).decode('utf-8'))\n",
    "        category4.append('Workday')"
   ]
  },
  {
   "cell_type": "code",
   "execution_count": 10,
   "id": "493f1ae9",
   "metadata": {},
   "outputs": [
    {
     "data": {
      "text/html": [
       "<div>\n",
       "<style scoped>\n",
       "    .dataframe tbody tr th:only-of-type {\n",
       "        vertical-align: middle;\n",
       "    }\n",
       "\n",
       "    .dataframe tbody tr th {\n",
       "        vertical-align: top;\n",
       "    }\n",
       "\n",
       "    .dataframe thead th {\n",
       "        text-align: right;\n",
       "    }\n",
       "</style>\n",
       "<table border=\"1\" class=\"dataframe\">\n",
       "  <thead>\n",
       "    <tr style=\"text-align: right;\">\n",
       "      <th></th>\n",
       "      <th>Raw_Details</th>\n",
       "      <th>Category4</th>\n",
       "    </tr>\n",
       "  </thead>\n",
       "  <tbody>\n",
       "    <tr>\n",
       "      <th>0</th>\n",
       "      <td>Chinna Subbarayudu M\\n\\nDOB: 06th March 1994\\n...</td>\n",
       "      <td>Workday</td>\n",
       "    </tr>\n",
       "    <tr>\n",
       "      <th>1</th>\n",
       "      <td>Name         : Gopi Krishna Reddy\\n\\n\\t\\t     ...</td>\n",
       "      <td>Workday</td>\n",
       "    </tr>\n",
       "    <tr>\n",
       "      <th>2</th>\n",
       "      <td>G Himaja\\n\\n                                  ...</td>\n",
       "      <td>Workday</td>\n",
       "    </tr>\n",
       "    <tr>\n",
       "      <th>3</th>\n",
       "      <td>JYOTI VERMA\\t\\t\\t\\t\\t\\n\\n\\n\\nPROFESSIONAL SUMM...</td>\n",
       "      <td>Workday</td>\n",
       "    </tr>\n",
       "    <tr>\n",
       "      <th>4</th>\n",
       "      <td>Mooraboyina Guravaiah\\n\\nWorkday Integration S...</td>\n",
       "      <td>Workday</td>\n",
       "    </tr>\n",
       "    <tr>\n",
       "      <th>5</th>\n",
       "      <td>VENKATA SAIKRISHNA\\n\\n Workday Consultant\\n\\n\\...</td>\n",
       "      <td>Workday</td>\n",
       "    </tr>\n",
       "    <tr>\n",
       "      <th>6</th>\n",
       "      <td>Workday HCM  Techno functional Consultant     ...</td>\n",
       "      <td>Workday</td>\n",
       "    </tr>\n",
       "    <tr>\n",
       "      <th>7</th>\n",
       "      <td>Ramesh A\\t\\t\\t\\t\\t\\t\\t\\t\\t\\t\\t\\t\\t\\t\\t\\t\\t\\t\\t...</td>\n",
       "      <td>Workday</td>\n",
       "    </tr>\n",
       "    <tr>\n",
       "      <th>8</th>\n",
       "      <td>Srikanth (WORKDAY hCM Consultant)\\t           ...</td>\n",
       "      <td>Workday</td>\n",
       "    </tr>\n",
       "    <tr>\n",
       "      <th>9</th>\n",
       "      <td>WORKDAY | HCM | FCM\\n\\nName \\t\\t: Kumar S.S\\n\\...</td>\n",
       "      <td>Workday</td>\n",
       "    </tr>\n",
       "    <tr>\n",
       "      <th>10</th>\n",
       "      <td>Vinay kumar .v\\nWorkday Functional Consultant\\...</td>\n",
       "      <td>Workday</td>\n",
       "    </tr>\n",
       "  </tbody>\n",
       "</table>\n",
       "</div>"
      ],
      "text/plain": [
       "                                          Raw_Details Category4\n",
       "0   Chinna Subbarayudu M\\n\\nDOB: 06th March 1994\\n...   Workday\n",
       "1   Name         : Gopi Krishna Reddy\\n\\n\\t\\t     ...   Workday\n",
       "2   G Himaja\\n\\n                                  ...   Workday\n",
       "3   JYOTI VERMA\\t\\t\\t\\t\\t\\n\\n\\n\\nPROFESSIONAL SUMM...   Workday\n",
       "4   Mooraboyina Guravaiah\\n\\nWorkday Integration S...   Workday\n",
       "5   VENKATA SAIKRISHNA\\n\\n Workday Consultant\\n\\n\\...   Workday\n",
       "6   Workday HCM  Techno functional Consultant     ...   Workday\n",
       "7   Ramesh A\\t\\t\\t\\t\\t\\t\\t\\t\\t\\t\\t\\t\\t\\t\\t\\t\\t\\t\\t...   Workday\n",
       "8   Srikanth (WORKDAY hCM Consultant)\\t           ...   Workday\n",
       "9   WORKDAY | HCM | FCM\\n\\nName \\t\\t: Kumar S.S\\n\\...   Workday\n",
       "10  Vinay kumar .v\\nWorkday Functional Consultant\\...   Workday"
      ]
     },
     "execution_count": 10,
     "metadata": {},
     "output_type": "execute_result"
    }
   ],
   "source": [
    "data4 = pd.DataFrame(data = file_path4 , columns = ['Raw_Details'])\n",
    "data4['Category4'] = category4\n",
    "data4"
   ]
  },
  {
   "cell_type": "code",
   "execution_count": 18,
   "id": "0395f6cb",
   "metadata": {},
   "outputs": [
    {
     "ename": "AttributeError",
     "evalue": "'DataFrame' object has no attribute 'append'",
     "output_type": "error",
     "traceback": [
      "\u001b[1;31m---------------------------------------------------------------------------\u001b[0m",
      "\u001b[1;31mAttributeError\u001b[0m                            Traceback (most recent call last)",
      "\u001b[1;32m~\\AppData\\Local\\Temp\\ipykernel_8468\\341568797.py\u001b[0m in \u001b[0;36m?\u001b[1;34m()\u001b[0m\n\u001b[1;32m----> 1\u001b[1;33m \u001b[0mresume_data\u001b[0m \u001b[1;33m=\u001b[0m \u001b[0mdata1\u001b[0m\u001b[1;33m.\u001b[0m\u001b[0mappend\u001b[0m\u001b[1;33m(\u001b[0m\u001b[1;33m[\u001b[0m\u001b[0mdata2\u001b[0m\u001b[1;33m,\u001b[0m \u001b[0mdata3\u001b[0m\u001b[1;33m,\u001b[0m \u001b[0mdata4\u001b[0m\u001b[1;33m]\u001b[0m\u001b[1;33m,\u001b[0m \u001b[0mignore_index\u001b[0m \u001b[1;33m=\u001b[0m \u001b[1;32mTrue\u001b[0m\u001b[1;33m)\u001b[0m\u001b[1;33m\u001b[0m\u001b[1;33m\u001b[0m\u001b[0m\n\u001b[0m\u001b[0;32m      2\u001b[0m \u001b[0mresume_data\u001b[0m\u001b[1;33m\u001b[0m\u001b[1;33m\u001b[0m\u001b[0m\n",
      "\u001b[1;32m~\\anaconda\\Lib\\site-packages\\pandas\\core\\generic.py\u001b[0m in \u001b[0;36m?\u001b[1;34m(self, name)\u001b[0m\n\u001b[0;32m   5985\u001b[0m             \u001b[1;32mand\u001b[0m \u001b[0mname\u001b[0m \u001b[1;32mnot\u001b[0m \u001b[1;32min\u001b[0m \u001b[0mself\u001b[0m\u001b[1;33m.\u001b[0m\u001b[0m_accessors\u001b[0m\u001b[1;33m\u001b[0m\u001b[1;33m\u001b[0m\u001b[0m\n\u001b[0;32m   5986\u001b[0m             \u001b[1;32mand\u001b[0m \u001b[0mself\u001b[0m\u001b[1;33m.\u001b[0m\u001b[0m_info_axis\u001b[0m\u001b[1;33m.\u001b[0m\u001b[0m_can_hold_identifiers_and_holds_name\u001b[0m\u001b[1;33m(\u001b[0m\u001b[0mname\u001b[0m\u001b[1;33m)\u001b[0m\u001b[1;33m\u001b[0m\u001b[1;33m\u001b[0m\u001b[0m\n\u001b[0;32m   5987\u001b[0m         ):\n\u001b[0;32m   5988\u001b[0m             \u001b[1;32mreturn\u001b[0m \u001b[0mself\u001b[0m\u001b[1;33m[\u001b[0m\u001b[0mname\u001b[0m\u001b[1;33m]\u001b[0m\u001b[1;33m\u001b[0m\u001b[1;33m\u001b[0m\u001b[0m\n\u001b[1;32m-> 5989\u001b[1;33m         \u001b[1;32mreturn\u001b[0m \u001b[0mobject\u001b[0m\u001b[1;33m.\u001b[0m\u001b[0m__getattribute__\u001b[0m\u001b[1;33m(\u001b[0m\u001b[0mself\u001b[0m\u001b[1;33m,\u001b[0m \u001b[0mname\u001b[0m\u001b[1;33m)\u001b[0m\u001b[1;33m\u001b[0m\u001b[1;33m\u001b[0m\u001b[0m\n\u001b[0m",
      "\u001b[1;31mAttributeError\u001b[0m: 'DataFrame' object has no attribute 'append'"
     ]
    }
   ],
   "source": [
    "resume_data = data1.append([data2, data3, data4], ignore_index = True)\n",
    "resume_data"
   ]
  },
  {
   "cell_type": "code",
   "execution_count": 19,
   "id": "96115274",
   "metadata": {},
   "outputs": [
    {
     "ename": "NameError",
     "evalue": "name 'resume_data' is not defined",
     "output_type": "error",
     "traceback": [
      "\u001b[1;31m---------------------------------------------------------------------------\u001b[0m",
      "\u001b[1;31mNameError\u001b[0m                                 Traceback (most recent call last)",
      "Cell \u001b[1;32mIn[19], line 1\u001b[0m\n\u001b[1;32m----> 1\u001b[0m resume_data\u001b[38;5;241m.\u001b[39minfo()\n",
      "\u001b[1;31mNameError\u001b[0m: name 'resume_data' is not defined"
     ]
    }
   ],
   "source": [
    "resume_data.info()"
   ]
  },
  {
   "cell_type": "code",
   "execution_count": 20,
   "id": "d573f3ed",
   "metadata": {},
   "outputs": [
    {
     "ename": "NameError",
     "evalue": "name 'resume_data' is not defined",
     "output_type": "error",
     "traceback": [
      "\u001b[1;31m---------------------------------------------------------------------------\u001b[0m",
      "\u001b[1;31mNameError\u001b[0m                                 Traceback (most recent call last)",
      "Cell \u001b[1;32mIn[20], line 1\u001b[0m\n\u001b[1;32m----> 1\u001b[0m resume_data[\u001b[38;5;124m'\u001b[39m\u001b[38;5;124mCategory\u001b[39m\u001b[38;5;124m'\u001b[39m] \u001b[38;5;241m=\u001b[39m category1 \u001b[38;5;241m+\u001b[39m category2 \u001b[38;5;241m+\u001b[39m category3 \u001b[38;5;241m+\u001b[39m category4\n\u001b[0;32m      2\u001b[0m resume_data\n",
      "\u001b[1;31mNameError\u001b[0m: name 'resume_data' is not defined"
     ]
    }
   ],
   "source": [
    "resume_data['Category'] = category1 + category2 + category3 + category4\n",
    "resume_data"
   ]
  },
  {
   "cell_type": "code",
   "execution_count": 14,
   "id": "df5e7f10",
   "metadata": {},
   "outputs": [
    {
     "ename": "NameError",
     "evalue": "name 'resume_data' is not defined",
     "output_type": "error",
     "traceback": [
      "\u001b[1;31m---------------------------------------------------------------------------\u001b[0m",
      "\u001b[1;31mNameError\u001b[0m                                 Traceback (most recent call last)",
      "Cell \u001b[1;32mIn[14], line 1\u001b[0m\n\u001b[1;32m----> 1\u001b[0m resume_data\u001b[38;5;241m.\u001b[39mdrop([\u001b[38;5;124m'\u001b[39m\u001b[38;5;124mCategory1\u001b[39m\u001b[38;5;124m'\u001b[39m, \u001b[38;5;124m'\u001b[39m\u001b[38;5;124mCategory2\u001b[39m\u001b[38;5;124m'\u001b[39m, \u001b[38;5;124m'\u001b[39m\u001b[38;5;124mCategory3\u001b[39m\u001b[38;5;124m'\u001b[39m, \u001b[38;5;124m'\u001b[39m\u001b[38;5;124mCategory4\u001b[39m\u001b[38;5;124m'\u001b[39m], axis \u001b[38;5;241m=\u001b[39m \u001b[38;5;241m1\u001b[39m, inplace \u001b[38;5;241m=\u001b[39m \u001b[38;5;28;01mTrue\u001b[39;00m)\n\u001b[0;32m      2\u001b[0m resume_data \u001b[38;5;241m=\u001b[39m resume_data[[\u001b[38;5;124m\"\u001b[39m\u001b[38;5;124mCategory\u001b[39m\u001b[38;5;124m\"\u001b[39m, \u001b[38;5;124m\"\u001b[39m\u001b[38;5;124mRaw_Details\u001b[39m\u001b[38;5;124m\"\u001b[39m]]\n",
      "\u001b[1;31mNameError\u001b[0m: name 'resume_data' is not defined"
     ]
    }
   ],
   "source": [
    "resume_data.drop(['Category1', 'Category2', 'Category3', 'Category4'], axis = 1, inplace = True)\n",
    "resume_data = resume_data[[\"Category\", \"Raw_Details\"]]"
   ]
  },
  {
   "cell_type": "code",
   "execution_count": 15,
   "id": "a67ae2db",
   "metadata": {},
   "outputs": [
    {
     "ename": "NameError",
     "evalue": "name 'resume_data' is not defined",
     "output_type": "error",
     "traceback": [
      "\u001b[1;31m---------------------------------------------------------------------------\u001b[0m",
      "\u001b[1;31mNameError\u001b[0m                                 Traceback (most recent call last)",
      "Cell \u001b[1;32mIn[15], line 1\u001b[0m\n\u001b[1;32m----> 1\u001b[0m resume_data\u001b[38;5;241m.\u001b[39mhead()\n",
      "\u001b[1;31mNameError\u001b[0m: name 'resume_data' is not defined"
     ]
    }
   ],
   "source": [
    "resume_data.head()"
   ]
  },
  {
   "cell_type": "code",
   "execution_count": 16,
   "id": "d58317d9",
   "metadata": {},
   "outputs": [
    {
     "ename": "NameError",
     "evalue": "name 'resume_data' is not defined",
     "output_type": "error",
     "traceback": [
      "\u001b[1;31m---------------------------------------------------------------------------\u001b[0m",
      "\u001b[1;31mNameError\u001b[0m                                 Traceback (most recent call last)",
      "Cell \u001b[1;32mIn[16], line 1\u001b[0m\n\u001b[1;32m----> 1\u001b[0m resume_data[\u001b[38;5;124m\"\u001b[39m\u001b[38;5;124mRaw_Details\u001b[39m\u001b[38;5;124m\"\u001b[39m][\u001b[38;5;241m4\u001b[39m]\n",
      "\u001b[1;31mNameError\u001b[0m: name 'resume_data' is not defined"
     ]
    }
   ],
   "source": [
    "resume_data[\"Raw_Details\"][4]"
   ]
  },
  {
   "cell_type": "code",
   "execution_count": 17,
   "id": "aa2d5f4b",
   "metadata": {},
   "outputs": [
    {
     "ename": "NameError",
     "evalue": "name 'resume_data' is not defined",
     "output_type": "error",
     "traceback": [
      "\u001b[1;31m---------------------------------------------------------------------------\u001b[0m",
      "\u001b[1;31mNameError\u001b[0m                                 Traceback (most recent call last)",
      "Cell \u001b[1;32mIn[17], line 1\u001b[0m\n\u001b[1;32m----> 1\u001b[0m resume_data\u001b[38;5;241m.\u001b[39mto_csv(\u001b[38;5;124m'\u001b[39m\u001b[38;5;124mRaw_Resume.csv\u001b[39m\u001b[38;5;124m'\u001b[39m, index\u001b[38;5;241m=\u001b[39m\u001b[38;5;28;01mFalse\u001b[39;00m)\n",
      "\u001b[1;31mNameError\u001b[0m: name 'resume_data' is not defined"
     ]
    }
   ],
   "source": [
    "resume_data.to_csv('Raw_Resume.csv', index=False)"
   ]
  },
  {
   "cell_type": "code",
   "execution_count": null,
   "id": "fd1b9924",
   "metadata": {},
   "outputs": [],
   "source": [
    "resume_data = pd.read_csv(\"Raw_Resume.csv\")\n",
    "resume_data"
   ]
  },
  {
   "cell_type": "code",
   "execution_count": null,
   "id": "056edbe8",
   "metadata": {},
   "outputs": [],
   "source": [
    "resume_data[resume_data.Category == 'Workday']"
   ]
  },
  {
   "cell_type": "code",
   "execution_count": null,
   "id": "e25ec087",
   "metadata": {},
   "outputs": [],
   "source": [
    "resume_data.isnull().sum()"
   ]
  },
  {
   "cell_type": "code",
   "execution_count": null,
   "id": "7f6c1ba2",
   "metadata": {},
   "outputs": [],
   "source": [
    "resume_data['Word_Count'] = resume_data['Raw_Details'].apply(lambda x: len(str(x).split(\" \")))\n",
    "resume_data[['Raw_Details','Word_Count']].head()"
   ]
  },
  {
   "cell_type": "code",
   "execution_count": null,
   "id": "549965b1",
   "metadata": {},
   "outputs": [],
   "source": [
    "resume_data['Char_Count'] = resume_data['Raw_Details'].str.len() ## this also includes spaces\n",
    "resume_data[['Raw_Details','Char_Count']].head()"
   ]
  },
  {
   "cell_type": "code",
   "execution_count": null,
   "id": "df8958f3",
   "metadata": {},
   "outputs": [],
   "source": [
    "resume_data['Numerics'] = resume_data['Raw_Details'].apply(lambda x: len([x for x in x.split() if x.isdigit()]))\n",
    "resume_data[['Raw_Details','Numerics']].head()"
   ]
  },
  {
   "cell_type": "code",
   "execution_count": null,
   "id": "518b6bed",
   "metadata": {},
   "outputs": [],
   "source": [
    "resume_data"
   ]
  },
  {
   "cell_type": "code",
   "execution_count": null,
   "id": "8372611c",
   "metadata": {},
   "outputs": [],
   "source": [
    "def preprocess(sentence):\n",
    "    sentence = str(sentence)\n",
    "    sentence = sentence.lower()\n",
    "    sentence = sentence.replace('{html}',\"\") \n",
    "    cleanr = re.compile('<.*?>')\n",
    "    cleantext = re.sub(cleanr, '', sentence)\n",
    "    rem_url = re.sub(r'http\\S+', '',cleantext)\n",
    "    rem_num = re.sub('[0-9]+', '', rem_url)\n",
    "    tokenizer = RegexpTokenizer(r'\\w+')\n",
    "    tokens = tokenizer.tokenize(rem_num)  \n",
    "    filtered_words = [w for w in tokens if len(w) > 2 if not w in stopwords.words('english')]\n",
    "\n",
    "    return \" \".join(filtered_words)\n"
   ]
  },
  {
   "cell_type": "code",
   "execution_count": null,
   "id": "54c4dacb",
   "metadata": {},
   "outputs": [],
   "source": [
    "resume_data = pd.read_csv('Raw_Resume.csv')\n",
    "resume_data['Resume_Details'] = resume_data.Raw_Details.apply(lambda x: preprocess(x))"
   ]
  },
  {
   "cell_type": "code",
   "execution_count": null,
   "id": "314eb373",
   "metadata": {},
   "outputs": [],
   "source": [
    "resume_data"
   ]
  },
  {
   "cell_type": "code",
   "execution_count": null,
   "id": "5e83d341",
   "metadata": {},
   "outputs": [],
   "source": [
    "resume_data.drop(['Raw_Details'], axis = 1, inplace = True)\n",
    "resume_data"
   ]
  },
  {
   "cell_type": "code",
   "execution_count": null,
   "id": "27745c9a",
   "metadata": {},
   "outputs": [],
   "source": [
    "resume_data.to_csv('Cleaned_Resumes.csv', index = False)"
   ]
  },
  {
   "cell_type": "code",
   "execution_count": null,
   "id": "ea76e7e0",
   "metadata": {},
   "outputs": [],
   "source": [
    "resume_data = pd.read_csv('Cleaned_Resumes.csv')\n",
    "resume_data"
   ]
  },
  {
   "cell_type": "code",
   "execution_count": null,
   "id": "10c1e6e2",
   "metadata": {},
   "outputs": [],
   "source": [
    "resume_data.Resume_Details[5]"
   ]
  },
  {
   "cell_type": "code",
   "execution_count": null,
   "id": "b711d1d9",
   "metadata": {},
   "outputs": [],
   "source": [
    "import nltk\n",
    "nltk.download('punkt')"
   ]
  },
  {
   "cell_type": "code",
   "execution_count": null,
   "id": "194b2065",
   "metadata": {},
   "outputs": [],
   "source": [
    "oneSetOfStopWords = set(stopwords.words('english')+['``',\"''\"])\n",
    "totalWords =[]\n",
    "Sentences = resume_data['Resume_Details'].values\n",
    "cleanedSentences = \"\"\n",
    "for records in Sentences:\n",
    "    cleanedText = preprocess(records)\n",
    "    cleanedSentences += cleanedText\n",
    "    requiredWords = nltk.word_tokenize(cleanedText)\n",
    "    for word in requiredWords:\n",
    "        if word not in oneSetOfStopWords and word not in string.punctuation:\n",
    "            totalWords.append(word)\n",
    "    \n",
    "wordfreqdist = nltk.FreqDist(totalWords)\n",
    "mostcommon = wordfreqdist.most_common(50)\n",
    "print(mostcommon)\n"
   ]
  },
  {
   "cell_type": "code",
   "execution_count": null,
   "id": "940a218d",
   "metadata": {},
   "outputs": [],
   "source": []
  }
 ],
 "metadata": {
  "kernelspec": {
   "display_name": "Python 3 (ipykernel)",
   "language": "python",
   "name": "python3"
  },
  "language_info": {
   "codemirror_mode": {
    "name": "ipython",
    "version": 3
   },
   "file_extension": ".py",
   "mimetype": "text/x-python",
   "name": "python",
   "nbconvert_exporter": "python",
   "pygments_lexer": "ipython3",
   "version": "3.11.5"
  }
 },
 "nbformat": 4,
 "nbformat_minor": 5
}
